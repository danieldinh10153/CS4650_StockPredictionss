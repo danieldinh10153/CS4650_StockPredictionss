{
 "cells": [
  {
   "cell_type": "code",
   "execution_count": 12,
   "id": "3c8ef466",
   "metadata": {},
   "outputs": [],
   "source": [
    "import numpy as np\n",
    "import pandas as pd\n",
    "import matplotlib.pyplot as plt\n",
    "import seaborn as sns\n",
    "import statsmodels.api as sm\n",
    "import itertools\n",
    "%matplotlib inline\n",
    "from statsmodels.tools.eval_measures import rmse\n",
    "from statsmodels.tsa.arima_model import ARIMA, ARMA\n",
    "import warnings\n",
    "warnings.filterwarnings(\"ignore\")"
   ]
  },
  {
   "cell_type": "code",
   "execution_count": 13,
   "id": "e7fc21a8",
   "metadata": {},
   "outputs": [
    {
     "data": {
      "text/html": [
       "<div>\n",
       "<style scoped>\n",
       "    .dataframe tbody tr th:only-of-type {\n",
       "        vertical-align: middle;\n",
       "    }\n",
       "\n",
       "    .dataframe tbody tr th {\n",
       "        vertical-align: top;\n",
       "    }\n",
       "\n",
       "    .dataframe thead th {\n",
       "        text-align: right;\n",
       "    }\n",
       "</style>\n",
       "<table border=\"1\" class=\"dataframe\">\n",
       "  <thead>\n",
       "    <tr style=\"text-align: right;\">\n",
       "      <th></th>\n",
       "      <th>Date</th>\n",
       "      <th>Open</th>\n",
       "      <th>High</th>\n",
       "      <th>Low</th>\n",
       "      <th>Close</th>\n",
       "      <th>Adj Close</th>\n",
       "      <th>Volume</th>\n",
       "    </tr>\n",
       "  </thead>\n",
       "  <tbody>\n",
       "    <tr>\n",
       "      <th>0</th>\n",
       "      <td>2021-11-08</td>\n",
       "      <td>301.489990</td>\n",
       "      <td>311.000000</td>\n",
       "      <td>299.070007</td>\n",
       "      <td>308.040009</td>\n",
       "      <td>308.002289</td>\n",
       "      <td>50310100</td>\n",
       "    </tr>\n",
       "    <tr>\n",
       "      <th>1</th>\n",
       "      <td>2021-11-09</td>\n",
       "      <td>322.820007</td>\n",
       "      <td>323.100006</td>\n",
       "      <td>299.640015</td>\n",
       "      <td>306.570007</td>\n",
       "      <td>306.532471</td>\n",
       "      <td>64674600</td>\n",
       "    </tr>\n",
       "    <tr>\n",
       "      <th>2</th>\n",
       "      <td>2021-11-10</td>\n",
       "      <td>293.559998</td>\n",
       "      <td>308.500000</td>\n",
       "      <td>287.779999</td>\n",
       "      <td>294.589996</td>\n",
       "      <td>294.553925</td>\n",
       "      <td>63620600</td>\n",
       "    </tr>\n",
       "    <tr>\n",
       "      <th>3</th>\n",
       "      <td>2021-11-11</td>\n",
       "      <td>304.679993</td>\n",
       "      <td>305.899994</td>\n",
       "      <td>297.769989</td>\n",
       "      <td>303.899994</td>\n",
       "      <td>303.862793</td>\n",
       "      <td>33217200</td>\n",
       "    </tr>\n",
       "    <tr>\n",
       "      <th>4</th>\n",
       "      <td>2021-11-12</td>\n",
       "      <td>300.100006</td>\n",
       "      <td>306.799988</td>\n",
       "      <td>296.299988</td>\n",
       "      <td>303.899994</td>\n",
       "      <td>303.862793</td>\n",
       "      <td>41215100</td>\n",
       "    </tr>\n",
       "  </tbody>\n",
       "</table>\n",
       "</div>"
      ],
      "text/plain": [
       "         Date        Open        High         Low       Close   Adj Close  \\\n",
       "0  2021-11-08  301.489990  311.000000  299.070007  308.040009  308.002289   \n",
       "1  2021-11-09  322.820007  323.100006  299.640015  306.570007  306.532471   \n",
       "2  2021-11-10  293.559998  308.500000  287.779999  294.589996  294.553925   \n",
       "3  2021-11-11  304.679993  305.899994  297.769989  303.899994  303.862793   \n",
       "4  2021-11-12  300.100006  306.799988  296.299988  303.899994  303.862793   \n",
       "\n",
       "     Volume  \n",
       "0  50310100  \n",
       "1  64674600  \n",
       "2  63620600  \n",
       "3  33217200  \n",
       "4  41215100  "
      ]
     },
     "execution_count": 13,
     "metadata": {},
     "output_type": "execute_result"
    }
   ],
   "source": [
    "data = pd.read_csv('NVDA.csv')\n",
    "data.head()"
   ]
  },
  {
   "cell_type": "code",
   "execution_count": 14,
   "id": "ffde2b54",
   "metadata": {},
   "outputs": [
    {
     "data": {
      "image/png": "[encoded data removed]",
      "text/plain": [
       "<Figure size 432x288 with 1 Axes>"
      ]
     },
     "metadata": {
      "needs_background": "light"
     },
     "output_type": "display_data"
    }
   ],
   "source": [
    "df = data[['Date','Close']]\n",
    "df.Date = pd.to_datetime(df.Date)\n",
    "df = df.set_index(\"Date\")\n",
    "df.plot(style=\"-\")\n",
    "\n",
    "p = d = q = range(0, 3)\n",
    "pdq = list(itertools.product(p, d, q))"
   ]
  },
  {
   "cell_type": "code",
   "execution_count": 15,
   "id": "06d6bb4c",
   "metadata": {},
   "outputs": [
    {
     "name": "stdout",
     "output_type": "stream",
     "text": [
      "ARIMA(0, 0, 0) - AIC:302.91364961295966\n",
      "ARIMA(0, 0, 1) - AIC:280.1030843864434\n",
      "ARIMA(0, 0, 2) - AIC:264.36575972456234\n",
      "ARIMA(0, 1, 0) - AIC:157.92075007353603\n",
      "ARIMA(0, 1, 1) - AIC:156.25774833251808\n",
      "ARIMA(0, 1, 2) - AIC:157.58733701790698\n",
      "ARIMA(0, 2, 0) - AIC:167.3102945479427\n",
      "ARIMA(0, 2, 1) - AIC:156.00528886441455\n",
      "ARIMA(0, 2, 2) - AIC:155.6994723217495\n",
      "ARIMA(1, 0, 0) - AIC:174.2644747210769\n",
      "ARIMA(1, 0, 1) - AIC:172.57211993290315\n",
      "ARIMA(1, 0, 2) - AIC:173.9096917321997\n",
      "ARIMA(1, 1, 0) - AIC:158.0589501276817\n",
      "ARIMA(1, 1, 1) - AIC:158.00874026850693\n",
      "ARIMA(1, 1, 2) - AIC:158.67042674006188\n",
      "ARIMA(1, 2, 0) - AIC:164.36488006862533\n",
      "ARIMA(1, 2, 1) - AIC:156.7545467781641\n",
      "ARIMA(1, 2, 2) - AIC:159.74810043636438\n",
      "ARIMA(2, 0, 0) - AIC:174.38650606309915\n",
      "ARIMA(2, 0, 1) - AIC:178.08068535482022\n",
      "ARIMA(2, 0, 2) - AIC:175.9586939477732\n",
      "ARIMA(2, 1, 0) - AIC:156.9115182792724\n",
      "ARIMA(2, 1, 1) - AIC:157.47376417550856\n",
      "ARIMA(2, 1, 2) - AIC:153.9787065725804\n",
      "ARIMA(2, 2, 0) - AIC:157.06052895457955\n",
      "ARIMA(2, 2, 1) - AIC:159.03747672492054\n",
      "ARIMA(2, 2, 2) - AIC:156.7554707807247\n",
      "The optimal model is: ARIMA(2, 1, 2) -AIC153.9787065725804\n"
     ]
    }
   ],
   "source": [
    "warnings.filterwarnings(\"ignore\")\n",
    "aic= []\n",
    "parameters = []\n",
    "for param in pdq:\n",
    "      try:\n",
    "          mod = sm.tsa.statespace.SARIMAX(df, order=param,       \n",
    "enforce_stationarity=True, enforce_invertibility=True)\n",
    "         \n",
    "          results = mod.fit()\n",
    "          aic.append(results.aic)\n",
    "          parameters.append(param)\n",
    "          print('ARIMA{} - AIC:{}'.format(param, results.aic))\n",
    "      except:\n",
    "          continue       \n",
    "index_min = min(range(len(aic)), key=aic.__getitem__)           \n",
    "\n",
    "print('The optimal model is: ARIMA{} -AIC{}'.format(parameters[index_min], aic[index_min]))"
   ]
  },
  {
   "cell_type": "code",
   "execution_count": 16,
   "id": "f71f943c",
   "metadata": {},
   "outputs": [
    {
     "name": "stdout",
     "output_type": "stream",
     "text": [
      "                             ARIMA Model Results                              \n",
      "==============================================================================\n",
      "Dep. Variable:                D.Close   No. Observations:                   20\n",
      "Model:                 ARIMA(2, 1, 2)   Log Likelihood                 -71.930\n",
      "Method:                       css-mle   S.D. of innovations              7.670\n",
      "Date:                Fri, 10 Dec 2021   AIC                            155.861\n",
      "Time:                        19:48:14   BIC                            161.835\n",
      "Sample:                             1   HQIC                           157.027\n",
      "                                                                              \n",
      "=================================================================================\n",
      "                    coef    std err          z      P>|z|      [0.025      0.975]\n",
      "---------------------------------------------------------------------------------\n",
      "const             0.6396      1.814      0.353      0.724      -2.915       4.195\n",
      "ar.L1.D.Close    -1.2285      0.054    -22.552      0.000      -1.335      -1.122\n",
      "ar.L2.D.Close    -0.9869      0.025    -39.311      0.000      -1.036      -0.938\n",
      "ma.L1.D.Close     1.3886      0.220      6.324      0.000       0.958       1.819\n",
      "ma.L2.D.Close     1.0000      0.255      3.928      0.000       0.501       1.499\n",
      "                                    Roots                                    \n",
      "=============================================================================\n",
      "                  Real          Imaginary           Modulus         Frequency\n",
      "-----------------------------------------------------------------------------\n",
      "AR.1           -0.6224           -0.7912j            1.0066           -0.3561\n",
      "AR.2           -0.6224           +0.7912j            1.0066            0.3561\n",
      "MA.1           -0.6943           -0.7197j            1.0000           -0.3721\n",
      "MA.2           -0.6943           +0.7197j            1.0000            0.3721\n",
      "-----------------------------------------------------------------------------\n"
     ]
    }
   ],
   "source": [
    "model = ARIMA(df, order=parameters[index_min])\n",
    "model_fit = model.fit(disp=0) \n",
    "print(model_fit.summary())"
   ]
  },
  {
   "cell_type": "code",
   "execution_count": 20,
   "id": "c4eb7438",
   "metadata": {},
   "outputs": [
    {
     "data": {
      "image/png": "[encoded data removed]",
      "text/plain": [
       "<Figure size 432x288 with 1 Axes>"
      ]
     },
     "metadata": {
      "needs_background": "light"
     },
     "output_type": "display_data"
    }
   ],
   "source": [
    "model_fit.plot_predict(start=2, end=len(df)+1) #forcast next month\n",
    "plt.show()"
   ]
  },
  {
   "cell_type": "code",
   "execution_count": null,
   "id": "4e65e972",
   "metadata": {},
   "outputs": [],
   "source": []
  },
  {
   "cell_type": "code",
   "execution_count": null,
   "id": "47625e72",
   "metadata": {},
   "outputs": [],
   "source": []
  },
  {
   "cell_type": "code",
   "execution_count": null,
   "id": "a09b876d",
   "metadata": {},
   "outputs": [],
   "source": []
  }
 ],
 "metadata": {
  "kernelspec": {
   "display_name": "Python 3",
   "language": "python",
   "name": "python3"
  },
  "language_info": {
   "codemirror_mode": {
    "name": "ipython",
    "version": 3
   },
   "file_extension": ".py",
   "mimetype": "text/x-python",
   "name": "python",
   "nbconvert_exporter": "python",
   "pygments_lexer": "ipython3",
   "version": "3.8.8"
  }
 },
 "nbformat": 4,
 "nbformat_minor": 5
}
