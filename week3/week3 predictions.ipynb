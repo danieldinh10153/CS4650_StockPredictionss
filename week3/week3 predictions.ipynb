{
 "cells": [
  {
   "cell_type": "markdown",
   "id": "2d408bb9",
   "metadata": {},
   "source": [
    "Week 3, I used the support vector regression(SVR) tool to analyze the data for regression analysis. This also paired well with the linear regression analysis. The purpose was to ignore the training data that was close to the prediction model and to focus on the subset of the training data. I researched and found that SVR has the advantages of: robuts to outliers, the decision model can be easily updated, the prediction accuracy can be improved with the confidence in classification. "
   ]
  },
  {
   "cell_type": "code",
   "execution_count": 101,
   "id": "55e1e0a1",
   "metadata": {},
   "outputs": [
    {
     "name": "stdout",
     "output_type": "stream",
     "text": [
      "Requirement already satisfied: quandl in c:\\users\\dinhd\\anaconda3\\lib\\site-packages (3.7.0)\n",
      "Requirement already satisfied: pandas>=0.14 in c:\\users\\dinhd\\anaconda3\\lib\\site-packages (from quandl) (1.2.4)\n",
      "Requirement already satisfied: requests>=2.7.0 in c:\\users\\dinhd\\anaconda3\\lib\\site-packages (from quandl) (2.25.1)\n",
      "Requirement already satisfied: inflection>=0.3.1 in c:\\users\\dinhd\\anaconda3\\lib\\site-packages (from quandl) (0.5.1)\n",
      "Requirement already satisfied: six in c:\\users\\dinhd\\anaconda3\\lib\\site-packages (from quandl) (1.15.0)\n",
      "Requirement already satisfied: numpy>=1.8 in c:\\users\\dinhd\\anaconda3\\lib\\site-packages (from quandl) (1.20.1)\n",
      "Requirement already satisfied: more-itertools in c:\\users\\dinhd\\anaconda3\\lib\\site-packages (from quandl) (8.7.0)\n",
      "Requirement already satisfied: python-dateutil in c:\\users\\dinhd\\anaconda3\\lib\\site-packages (from quandl) (2.8.1)\n",
      "Requirement already satisfied: pytz>=2017.3 in c:\\users\\dinhd\\anaconda3\\lib\\site-packages (from pandas>=0.14->quandl) (2021.1)\n",
      "Requirement already satisfied: chardet<5,>=3.0.2 in c:\\users\\dinhd\\anaconda3\\lib\\site-packages (from requests>=2.7.0->quandl) (4.0.0)\n",
      "Requirement already satisfied: urllib3<1.27,>=1.21.1 in c:\\users\\dinhd\\anaconda3\\lib\\site-packages (from requests>=2.7.0->quandl) (1.26.4)\n",
      "Requirement already satisfied: idna<3,>=2.5 in c:\\users\\dinhd\\anaconda3\\lib\\site-packages (from requests>=2.7.0->quandl) (2.10)\n",
      "Requirement already satisfied: certifi>=2017.4.17 in c:\\users\\dinhd\\anaconda3\\lib\\site-packages (from requests>=2.7.0->quandl) (2020.12.5)\n"
     ]
    }
   ],
   "source": [
    "import sys\n",
    "!{sys.executable} -m pip install quandl\n",
    "import quandl\n",
    "import numpy as np \n",
    "from sklearn.linear_model import LinearRegression\n",
    "from sklearn.svm import SVR\n",
    "from sklearn.model_selection import train_test_split"
   ]
  },
  {
   "cell_type": "code",
   "execution_count": 93,
   "id": "64a291ee",
   "metadata": {},
   "outputs": [],
   "source": [
    "#DataFlair - Get stock data\n",
    "# amazon = quandl.get(\"WIKI/AMZN\")\n",
    "apple = quandl.get(\"WIKI/AAPL\")\n",
    "# toyota = quandl.get(\"WIKI/TM\")\n",
    "# nvidia = quandl.get(\"WIKI/NVDA\")"
   ]
  },
  {
   "cell_type": "code",
   "execution_count": 94,
   "id": "455d3fc4",
   "metadata": {},
   "outputs": [],
   "source": [
    "apple = apple[['Adj. Close']]\n",
    "forecast_length=30\n",
    "apple['Predicted'] = apple[['Adj. Close']].shift(-forecast_length)\n"
   ]
  },
  {
   "cell_type": "code",
   "execution_count": 95,
   "id": "74a8a8dd",
   "metadata": {},
   "outputs": [
    {
     "name": "stdout",
     "output_type": "stream",
     "text": [
      "[[  0.42270592]\n",
      " [  0.40065169]\n",
      " [  0.37124607]\n",
      " ...\n",
      " [155.32      ]\n",
      " [155.97      ]\n",
      " [162.71      ]]\n"
     ]
    }
   ],
   "source": [
    "x=np.array(apple.drop(['Predicted'],1))\n",
    "x=x[:-forecast_length]\n",
    "print(x)"
   ]
  },
  {
   "cell_type": "code",
   "execution_count": 96,
   "id": "9fe63c96",
   "metadata": {},
   "outputs": [
    {
     "name": "stdout",
     "output_type": "stream",
     "text": [
      "[  0.47049006   0.45578725   0.43917307 ... 164.94       172.77\n",
      " 168.34      ]\n"
     ]
    }
   ],
   "source": [
    "y=np.array(apple['Predicted'])\n",
    "y=y[:-forecast_length]\n",
    "print(y)"
   ]
  },
  {
   "cell_type": "code",
   "execution_count": 97,
   "id": "df3c0849",
   "metadata": {},
   "outputs": [],
   "source": [
    "#training 80%, testing 20%\n",
    "x_train,x_test,y_train,y_test=train_test_split(x,y,test_size=0.2)"
   ]
  },
  {
   "cell_type": "code",
   "execution_count": 98,
   "id": "b0247d6c",
   "metadata": {},
   "outputs": [
    {
     "data": {
      "text/plain": [
       "SVR(C=1000.0, gamma=0.1)"
      ]
     },
     "execution_count": 98,
     "metadata": {},
     "output_type": "execute_result"
    }
   ],
   "source": [
    "#Creating the SVR model\n",
    "svr_rbf=SVR(kernel='rbf',C=1e3,gamma=0.1) \n",
    "svr_rbf.fit(x_train,y_train)"
   ]
  },
  {
   "cell_type": "code",
   "execution_count": 99,
   "id": "ca59bb38",
   "metadata": {},
   "outputs": [
    {
     "name": "stdout",
     "output_type": "stream",
     "text": [
      "SVR Confidence: 99.13%\n"
     ]
    }
   ],
   "source": [
    "#SCR confidence score\n",
    "svr_rbf_conf_num=svr_rbf.score(x_test,y_test)\n",
    "print(f\"SVR Confidence: {round(svr_rbf_conf_num*100,2)}%\")"
   ]
  },
  {
   "cell_type": "code",
   "execution_count": 100,
   "id": "b670dd72",
   "metadata": {},
   "outputs": [
    {
     "name": "stdout",
     "output_type": "stream",
     "text": [
      "Linear Regression Confidence: 99.18%\n"
     ]
    }
   ],
   "source": [
    "#LinearRegression Score\n",
    "lr=LinearRegression()\n",
    "lr.fit(x_train,y_train)\n",
    "lr_conf=lr.score(x_test,y_test)\n",
    "print(f\"Linear Regression Confidence: {round(lr_conf*100,2)}%\")"
   ]
  }
 ],
 "metadata": {
  "kernelspec": {
   "display_name": "Python 3",
   "language": "python",
   "name": "python3"
  },
  "language_info": {
   "codemirror_mode": {
    "name": "ipython",
    "version": 3
   },
   "file_extension": ".py",
   "mimetype": "text/x-python",
   "name": "python",
   "nbconvert_exporter": "python",
   "pygments_lexer": "ipython3",
   "version": "3.8.8"
  }
 },
 "nbformat": 4,
 "nbformat_minor": 5
}
