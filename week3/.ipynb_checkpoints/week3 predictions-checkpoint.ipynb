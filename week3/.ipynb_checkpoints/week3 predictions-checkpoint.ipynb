{
 "cells": [
  {
   "cell_type": "code",
   "execution_count": 35,
   "id": "13a8681b",
   "metadata": {},
   "outputs": [
    {
     "name": "stdout",
     "output_type": "stream",
     "text": [
      "Collecting quandl\n",
      "  Downloading Quandl-3.7.0-py2.py3-none-any.whl (26 kB)\n",
      "Requirement already satisfied: more-itertools in c:\\users\\dinhd\\anaconda3\\lib\\site-packages (from quandl) (8.7.0)\n",
      "Collecting inflection>=0.3.1\n",
      "  Downloading inflection-0.5.1-py2.py3-none-any.whl (9.5 kB)\n",
      "Requirement already satisfied: numpy>=1.8 in c:\\users\\dinhd\\anaconda3\\lib\\site-packages (from quandl) (1.20.1)\n",
      "Requirement already satisfied: six in c:\\users\\dinhd\\anaconda3\\lib\\site-packages (from quandl) (1.15.0)\n",
      "Requirement already satisfied: pandas>=0.14 in c:\\users\\dinhd\\anaconda3\\lib\\site-packages (from quandl) (1.2.4)\n",
      "Requirement already satisfied: requests>=2.7.0 in c:\\users\\dinhd\\anaconda3\\lib\\site-packages (from quandl) (2.25.1)\n",
      "Requirement already satisfied: python-dateutil in c:\\users\\dinhd\\anaconda3\\lib\\site-packages (from quandl) (2.8.1)\n",
      "Requirement already satisfied: pytz>=2017.3 in c:\\users\\dinhd\\anaconda3\\lib\\site-packages (from pandas>=0.14->quandl) (2021.1)\n",
      "Requirement already satisfied: certifi>=2017.4.17 in c:\\users\\dinhd\\anaconda3\\lib\\site-packages (from requests>=2.7.0->quandl) (2020.12.5)\n",
      "Requirement already satisfied: chardet<5,>=3.0.2 in c:\\users\\dinhd\\anaconda3\\lib\\site-packages (from requests>=2.7.0->quandl) (4.0.0)\n",
      "Requirement already satisfied: urllib3<1.27,>=1.21.1 in c:\\users\\dinhd\\anaconda3\\lib\\site-packages (from requests>=2.7.0->quandl) (1.26.4)\n",
      "Requirement already satisfied: idna<3,>=2.5 in c:\\users\\dinhd\\anaconda3\\lib\\site-packages (from requests>=2.7.0->quandl) (2.10)\n",
      "Installing collected packages: inflection, quandl\n",
      "Successfully installed inflection-0.5.1 quandl-3.7.0\n"
     ]
    }
   ],
   "source": [
    "#DataFlair - Make necessary imports\n",
    "import sys\n",
    "!{sys.executable} -m pip install quandl\n",
    "import quandl\n",
    "import numpy as np \n",
    "from sklearn.linear_model import LinearRegression\n",
    "from sklearn.svm import SVR\n",
    "from sklearn.model_selection import train_test_split"
   ]
  },
  {
   "cell_type": "code",
   "execution_count": null,
   "id": "b0b0779e",
   "metadata": {},
   "outputs": [],
   "source": [
    "#DataFlair - Get stock data\n",
    "amazon = quandl.get(\"WIKI/AMZN\")\n",
    "apple = quandl.get(\"WIKI/AAPL\")\n",
    "toyota = quandl.get(\"WIKI/TM\")\n",
    "nvidia = quandl.get(\"WIKI/NVDA\")"
   ]
  },
  {
   "cell_type": "code",
   "execution_count": 37,
   "id": "513aa096",
   "metadata": {},
   "outputs": [
    {
     "name": "stdout",
     "output_type": "stream",
     "text": [
      "            Adj. Close\n",
      "Date                  \n",
      "1997-05-16    1.729167\n",
      "1997-05-19    1.708333\n",
      "1997-05-20    1.635833\n",
      "1997-05-21    1.427500\n",
      "1997-05-22    1.395833\n"
     ]
    }
   ],
   "source": [
    "#DataFlair - Get only the data for the Adjusted Close column\n",
    "amazon = amazon[['Adj. Close']]\n",
    "print(amazon.head())"
   ]
  },
  {
   "cell_type": "code",
   "execution_count": 38,
   "id": "10308116",
   "metadata": {},
   "outputs": [
    {
     "name": "stdout",
     "output_type": "stream",
     "text": [
      "            Adj. Close  Predicted\n",
      "Date                             \n",
      "2018-03-21     1581.86        NaN\n",
      "2018-03-22     1544.10        NaN\n",
      "2018-03-23     1495.56        NaN\n",
      "2018-03-26     1555.86        NaN\n",
      "2018-03-27     1497.05        NaN\n"
     ]
    }
   ],
   "source": [
    "#DataFlair - Predict for 30 days; Predicted has the data of Adj. Close shifted up by 30 rows\n",
    "forecast_len=30\n",
    "amazon['Predicted'] = amazon[['Adj. Close']].shift(-forecast_len)\n",
    "print(amazon.tail())"
   ]
  },
  {
   "cell_type": "code",
   "execution_count": 39,
   "id": "48418c47",
   "metadata": {},
   "outputs": [
    {
     "name": "stdout",
     "output_type": "stream",
     "text": [
      "[[   1.72916667]\n",
      " [   1.70833333]\n",
      " [   1.63583333]\n",
      " ...\n",
      " [1350.47      ]\n",
      " [1338.99      ]\n",
      " [1386.23      ]]\n"
     ]
    }
   ],
   "source": [
    "#DataFlair - Drop the Predicted column, turn it into a NumPy array to create dataset\n",
    "x=np.array(amazon.drop(['Predicted'],1))\n",
    "#DataFlair - Remove last 30 rows\n",
    "x=x[:-forecast_len]\n",
    "print(x)"
   ]
  },
  {
   "cell_type": "code",
   "execution_count": 40,
   "id": "56a876ed",
   "metadata": {},
   "outputs": [
    {
     "name": "stdout",
     "output_type": "stream",
     "text": [
      "[1.54166667e+00 1.51583333e+00 1.58833333e+00 ... 1.49556000e+03\n",
      " 1.55586000e+03 1.49705000e+03]\n"
     ]
    }
   ],
   "source": [
    "#DataFlair - Create dependent dataset for predicted values, remove the last 30 rows\n",
    "y=np.array(amazon['Predicted'])\n",
    "y=y[:-forecast_len]\n",
    "print(y)"
   ]
  },
  {
   "cell_type": "code",
   "execution_count": 41,
   "id": "522820b7",
   "metadata": {},
   "outputs": [],
   "source": [
    "#DataFlair - Split datasets into training and test sets (80% and 20%)\n",
    "x_train,x_test,y_train,y_test=train_test_split(x,y,test_size=0.2)"
   ]
  },
  {
   "cell_type": "code",
   "execution_count": 42,
   "id": "a68b221c",
   "metadata": {},
   "outputs": [
    {
     "data": {
      "text/plain": [
       "SVR(C=1000.0, gamma=0.1)"
      ]
     },
     "execution_count": 42,
     "metadata": {},
     "output_type": "execute_result"
    }
   ],
   "source": [
    "#DataFlair - Create SVR model and train it\n",
    "svr_rbf=SVR(kernel='rbf',C=1e3,gamma=0.1) \n",
    "svr_rbf.fit(x_train,y_train)"
   ]
  },
  {
   "cell_type": "code",
   "execution_count": 43,
   "id": "ec42a358",
   "metadata": {},
   "outputs": [
    {
     "name": "stdout",
     "output_type": "stream",
     "text": [
      "SVR Confidence: 95.28%\n"
     ]
    }
   ],
   "source": [
    "#DataFlair - Get score\n",
    "svr_rbf_confidence=svr_rbf.score(x_test,y_test)\n",
    "print(f\"SVR Confidence: {round(svr_rbf_confidence*100,2)}%\")"
   ]
  },
  {
   "cell_type": "code",
   "execution_count": 44,
   "id": "96582155",
   "metadata": {},
   "outputs": [
    {
     "data": {
      "text/plain": [
       "LinearRegression()"
      ]
     },
     "execution_count": 44,
     "metadata": {},
     "output_type": "execute_result"
    }
   ],
   "source": [
    "#DataFlair - Create Linear Regression model and train it\n",
    "lr=LinearRegression()\n",
    "lr.fit(x_train,y_train)"
   ]
  },
  {
   "cell_type": "code",
   "execution_count": 45,
   "id": "0ae4e776",
   "metadata": {},
   "outputs": [
    {
     "name": "stdout",
     "output_type": "stream",
     "text": [
      "Linear Regression Confidence: 98.8%\n"
     ]
    }
   ],
   "source": [
    "#DataFlair - Get score for Linear Regression\n",
    "lr_confidence=lr.score(x_test,y_test)\n",
    "print(f\"Linear Regression Confidence: {round(lr_confidence*100,2)}%\")"
   ]
  },
  {
   "cell_type": "code",
   "execution_count": null,
   "id": "77aa5ef2",
   "metadata": {},
   "outputs": [],
   "source": []
  }
 ],
 "metadata": {
  "kernelspec": {
   "display_name": "Python 3",
   "language": "python",
   "name": "python3"
  },
  "language_info": {
   "codemirror_mode": {
    "name": "ipython",
    "version": 3
   },
   "file_extension": ".py",
   "mimetype": "text/x-python",
   "name": "python",
   "nbconvert_exporter": "python",
   "pygments_lexer": "ipython3",
   "version": "3.8.8"
  }
 },
 "nbformat": 4,
 "nbformat_minor": 5
}
